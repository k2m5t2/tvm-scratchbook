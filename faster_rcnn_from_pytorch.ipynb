{
  "cells": [
    {
      "cell_type": "markdown",
      "metadata": {
        "id": "view-in-github",
        "colab_type": "text"
      },
      "source": [
        "<a href=\"https://colab.research.google.com/github/k2m5t2/tvm-scratchbook/blob/main/faster_rcnn_from_pytorch.ipynb\" target=\"_parent\"><img src=\"https://colab.research.google.com/assets/colab-badge.svg\" alt=\"Open In Colab\"/></a>"
      ]
    },
    {
      "cell_type": "markdown",
      "metadata": {
        "id": "q1rQ0g68Rmbb"
      },
      "source": [
        "\n",
        "# Compile PyTorch Models\n",
        "**Author**: [Yunho Cho](https://github.com/k2m5t2/)"
      ]
    },
    {
      "cell_type": "markdown",
      "source": [
        "### Setup"
      ],
      "metadata": {
        "id": "XVrt0Mlljc5W"
      }
    },
    {
      "cell_type": "code",
      "execution_count": 1,
      "metadata": {
        "id": "aletcCZhRmba",
        "colab": {
          "base_uri": "https://localhost:8080/"
        },
        "outputId": "c3e6933c-2509-431a-9941-c4a532b40c49"
      },
      "outputs": [
        {
          "output_type": "stream",
          "name": "stdout",
          "text": [
            "Collecting apache-tvm\n",
            "  Downloading apache_tvm-0.14.dev189-cp310-cp310-manylinux_2_17_x86_64.manylinux2014_x86_64.whl (69.1 MB)\n",
            "\u001b[2K     \u001b[90m━━━━━━━━━━━━━━━━━━━━━━━━━━━━━━━━━━━━━━━━\u001b[0m \u001b[32m69.1/69.1 MB\u001b[0m \u001b[31m7.5 MB/s\u001b[0m eta \u001b[36m0:00:00\u001b[0m\n",
            "\u001b[?25hRequirement already satisfied: attrs in /usr/local/lib/python3.10/dist-packages (from apache-tvm) (23.1.0)\n",
            "Requirement already satisfied: cloudpickle in /usr/local/lib/python3.10/dist-packages (from apache-tvm) (2.2.1)\n",
            "Requirement already satisfied: decorator in /usr/local/lib/python3.10/dist-packages (from apache-tvm) (4.4.2)\n",
            "Requirement already satisfied: ml-dtypes in /usr/local/lib/python3.10/dist-packages (from apache-tvm) (0.2.0)\n",
            "Requirement already satisfied: numpy in /usr/local/lib/python3.10/dist-packages (from apache-tvm) (1.23.5)\n",
            "Requirement already satisfied: psutil in /usr/local/lib/python3.10/dist-packages (from apache-tvm) (5.9.5)\n",
            "Requirement already satisfied: scipy in /usr/local/lib/python3.10/dist-packages (from apache-tvm) (1.11.2)\n",
            "Requirement already satisfied: tornado in /usr/local/lib/python3.10/dist-packages (from apache-tvm) (6.3.2)\n",
            "Requirement already satisfied: typing-extensions in /usr/local/lib/python3.10/dist-packages (from apache-tvm) (4.5.0)\n",
            "Installing collected packages: apache-tvm\n",
            "Successfully installed apache-tvm-0.14.dev189\n"
          ]
        },
        {
          "output_type": "execute_result",
          "data": {
            "text/plain": []
          },
          "metadata": {},
          "execution_count": 1
        }
      ],
      "source": [
        "%%shell\n",
        "# Installs the latest dev build of TVM from PyPI. If you wish to build\n",
        "# from source, see https://tvm.apache.org/docs/install/from_source.html\n",
        "pip install apache-tvm --pre"
      ]
    },
    {
      "cell_type": "code",
      "execution_count": 26,
      "metadata": {
        "id": "7TdVrBhgRmbc"
      },
      "outputs": [],
      "source": [
        "# basics\n",
        "import numpy as np\n",
        "from PIL import Image\n",
        "import cv2\n",
        "\n",
        "# tvm\n",
        "import tvm\n",
        "from tvm import relay\n",
        "from tvm.contrib.download import download_testdata\n",
        "\n",
        "# pytorch\n",
        "import torch\n",
        "import torchvision\n",
        "from torchvision import transforms\n",
        "\n",
        "from torchvision.io.image import read_image\n",
        "from torchvision.utils import draw_bounding_boxes\n",
        "from torchvision.transforms.functional import to_pil_image\n",
        "\n",
        "# Faster R-CNN\n",
        "from torchvision.models.detection import fasterrcnn_resnet50_fpn_v2, FasterRCNN_ResNet50_FPN_V2_Weights"
      ]
    },
    {
      "cell_type": "markdown",
      "metadata": {
        "id": "ik3PJ7IrRmbc"
      },
      "source": [
        "## Load a pretrained PyTorch model\n",
        "\n"
      ]
    },
    {
      "cell_type": "code",
      "source": [
        "# Initialize model with the best available weights\n",
        "weights = FasterRCNN_ResNet50_FPN_V2_Weights.DEFAULT\n",
        "model = fasterrcnn_resnet50_fpn_v2(weights=weights, box_score_thresh=0.9)\n",
        "model.eval()\n"
      ],
      "metadata": {
        "id": "9p3lfDDQg2pW",
        "colab": {
          "base_uri": "https://localhost:8080/"
        },
        "outputId": "2ed604ad-a156-494d-d127-a33f510ed894"
      },
      "execution_count": 3,
      "outputs": [
        {
          "output_type": "stream",
          "name": "stderr",
          "text": [
            "Downloading: \"https://download.pytorch.org/models/fasterrcnn_resnet50_fpn_v2_coco-dd69338a.pth\" to /root/.cache/torch/hub/checkpoints/fasterrcnn_resnet50_fpn_v2_coco-dd69338a.pth\n",
            "100%|██████████| 167M/167M [00:03<00:00, 46.3MB/s]\n"
          ]
        },
        {
          "output_type": "execute_result",
          "data": {
            "text/plain": [
              "FasterRCNN(\n",
              "  (transform): GeneralizedRCNNTransform(\n",
              "      Normalize(mean=[0.485, 0.456, 0.406], std=[0.229, 0.224, 0.225])\n",
              "      Resize(min_size=(800,), max_size=1333, mode='bilinear')\n",
              "  )\n",
              "  (backbone): BackboneWithFPN(\n",
              "    (body): IntermediateLayerGetter(\n",
              "      (conv1): Conv2d(3, 64, kernel_size=(7, 7), stride=(2, 2), padding=(3, 3), bias=False)\n",
              "      (bn1): BatchNorm2d(64, eps=1e-05, momentum=0.1, affine=True, track_running_stats=True)\n",
              "      (relu): ReLU(inplace=True)\n",
              "      (maxpool): MaxPool2d(kernel_size=3, stride=2, padding=1, dilation=1, ceil_mode=False)\n",
              "      (layer1): Sequential(\n",
              "        (0): Bottleneck(\n",
              "          (conv1): Conv2d(64, 64, kernel_size=(1, 1), stride=(1, 1), bias=False)\n",
              "          (bn1): BatchNorm2d(64, eps=1e-05, momentum=0.1, affine=True, track_running_stats=True)\n",
              "          (conv2): Conv2d(64, 64, kernel_size=(3, 3), stride=(1, 1), padding=(1, 1), bias=False)\n",
              "          (bn2): BatchNorm2d(64, eps=1e-05, momentum=0.1, affine=True, track_running_stats=True)\n",
              "          (conv3): Conv2d(64, 256, kernel_size=(1, 1), stride=(1, 1), bias=False)\n",
              "          (bn3): BatchNorm2d(256, eps=1e-05, momentum=0.1, affine=True, track_running_stats=True)\n",
              "          (relu): ReLU(inplace=True)\n",
              "          (downsample): Sequential(\n",
              "            (0): Conv2d(64, 256, kernel_size=(1, 1), stride=(1, 1), bias=False)\n",
              "            (1): BatchNorm2d(256, eps=1e-05, momentum=0.1, affine=True, track_running_stats=True)\n",
              "          )\n",
              "        )\n",
              "        (1): Bottleneck(\n",
              "          (conv1): Conv2d(256, 64, kernel_size=(1, 1), stride=(1, 1), bias=False)\n",
              "          (bn1): BatchNorm2d(64, eps=1e-05, momentum=0.1, affine=True, track_running_stats=True)\n",
              "          (conv2): Conv2d(64, 64, kernel_size=(3, 3), stride=(1, 1), padding=(1, 1), bias=False)\n",
              "          (bn2): BatchNorm2d(64, eps=1e-05, momentum=0.1, affine=True, track_running_stats=True)\n",
              "          (conv3): Conv2d(64, 256, kernel_size=(1, 1), stride=(1, 1), bias=False)\n",
              "          (bn3): BatchNorm2d(256, eps=1e-05, momentum=0.1, affine=True, track_running_stats=True)\n",
              "          (relu): ReLU(inplace=True)\n",
              "        )\n",
              "        (2): Bottleneck(\n",
              "          (conv1): Conv2d(256, 64, kernel_size=(1, 1), stride=(1, 1), bias=False)\n",
              "          (bn1): BatchNorm2d(64, eps=1e-05, momentum=0.1, affine=True, track_running_stats=True)\n",
              "          (conv2): Conv2d(64, 64, kernel_size=(3, 3), stride=(1, 1), padding=(1, 1), bias=False)\n",
              "          (bn2): BatchNorm2d(64, eps=1e-05, momentum=0.1, affine=True, track_running_stats=True)\n",
              "          (conv3): Conv2d(64, 256, kernel_size=(1, 1), stride=(1, 1), bias=False)\n",
              "          (bn3): BatchNorm2d(256, eps=1e-05, momentum=0.1, affine=True, track_running_stats=True)\n",
              "          (relu): ReLU(inplace=True)\n",
              "        )\n",
              "      )\n",
              "      (layer2): Sequential(\n",
              "        (0): Bottleneck(\n",
              "          (conv1): Conv2d(256, 128, kernel_size=(1, 1), stride=(1, 1), bias=False)\n",
              "          (bn1): BatchNorm2d(128, eps=1e-05, momentum=0.1, affine=True, track_running_stats=True)\n",
              "          (conv2): Conv2d(128, 128, kernel_size=(3, 3), stride=(2, 2), padding=(1, 1), bias=False)\n",
              "          (bn2): BatchNorm2d(128, eps=1e-05, momentum=0.1, affine=True, track_running_stats=True)\n",
              "          (conv3): Conv2d(128, 512, kernel_size=(1, 1), stride=(1, 1), bias=False)\n",
              "          (bn3): BatchNorm2d(512, eps=1e-05, momentum=0.1, affine=True, track_running_stats=True)\n",
              "          (relu): ReLU(inplace=True)\n",
              "          (downsample): Sequential(\n",
              "            (0): Conv2d(256, 512, kernel_size=(1, 1), stride=(2, 2), bias=False)\n",
              "            (1): BatchNorm2d(512, eps=1e-05, momentum=0.1, affine=True, track_running_stats=True)\n",
              "          )\n",
              "        )\n",
              "        (1): Bottleneck(\n",
              "          (conv1): Conv2d(512, 128, kernel_size=(1, 1), stride=(1, 1), bias=False)\n",
              "          (bn1): BatchNorm2d(128, eps=1e-05, momentum=0.1, affine=True, track_running_stats=True)\n",
              "          (conv2): Conv2d(128, 128, kernel_size=(3, 3), stride=(1, 1), padding=(1, 1), bias=False)\n",
              "          (bn2): BatchNorm2d(128, eps=1e-05, momentum=0.1, affine=True, track_running_stats=True)\n",
              "          (conv3): Conv2d(128, 512, kernel_size=(1, 1), stride=(1, 1), bias=False)\n",
              "          (bn3): BatchNorm2d(512, eps=1e-05, momentum=0.1, affine=True, track_running_stats=True)\n",
              "          (relu): ReLU(inplace=True)\n",
              "        )\n",
              "        (2): Bottleneck(\n",
              "          (conv1): Conv2d(512, 128, kernel_size=(1, 1), stride=(1, 1), bias=False)\n",
              "          (bn1): BatchNorm2d(128, eps=1e-05, momentum=0.1, affine=True, track_running_stats=True)\n",
              "          (conv2): Conv2d(128, 128, kernel_size=(3, 3), stride=(1, 1), padding=(1, 1), bias=False)\n",
              "          (bn2): BatchNorm2d(128, eps=1e-05, momentum=0.1, affine=True, track_running_stats=True)\n",
              "          (conv3): Conv2d(128, 512, kernel_size=(1, 1), stride=(1, 1), bias=False)\n",
              "          (bn3): BatchNorm2d(512, eps=1e-05, momentum=0.1, affine=True, track_running_stats=True)\n",
              "          (relu): ReLU(inplace=True)\n",
              "        )\n",
              "        (3): Bottleneck(\n",
              "          (conv1): Conv2d(512, 128, kernel_size=(1, 1), stride=(1, 1), bias=False)\n",
              "          (bn1): BatchNorm2d(128, eps=1e-05, momentum=0.1, affine=True, track_running_stats=True)\n",
              "          (conv2): Conv2d(128, 128, kernel_size=(3, 3), stride=(1, 1), padding=(1, 1), bias=False)\n",
              "          (bn2): BatchNorm2d(128, eps=1e-05, momentum=0.1, affine=True, track_running_stats=True)\n",
              "          (conv3): Conv2d(128, 512, kernel_size=(1, 1), stride=(1, 1), bias=False)\n",
              "          (bn3): BatchNorm2d(512, eps=1e-05, momentum=0.1, affine=True, track_running_stats=True)\n",
              "          (relu): ReLU(inplace=True)\n",
              "        )\n",
              "      )\n",
              "      (layer3): Sequential(\n",
              "        (0): Bottleneck(\n",
              "          (conv1): Conv2d(512, 256, kernel_size=(1, 1), stride=(1, 1), bias=False)\n",
              "          (bn1): BatchNorm2d(256, eps=1e-05, momentum=0.1, affine=True, track_running_stats=True)\n",
              "          (conv2): Conv2d(256, 256, kernel_size=(3, 3), stride=(2, 2), padding=(1, 1), bias=False)\n",
              "          (bn2): BatchNorm2d(256, eps=1e-05, momentum=0.1, affine=True, track_running_stats=True)\n",
              "          (conv3): Conv2d(256, 1024, kernel_size=(1, 1), stride=(1, 1), bias=False)\n",
              "          (bn3): BatchNorm2d(1024, eps=1e-05, momentum=0.1, affine=True, track_running_stats=True)\n",
              "          (relu): ReLU(inplace=True)\n",
              "          (downsample): Sequential(\n",
              "            (0): Conv2d(512, 1024, kernel_size=(1, 1), stride=(2, 2), bias=False)\n",
              "            (1): BatchNorm2d(1024, eps=1e-05, momentum=0.1, affine=True, track_running_stats=True)\n",
              "          )\n",
              "        )\n",
              "        (1): Bottleneck(\n",
              "          (conv1): Conv2d(1024, 256, kernel_size=(1, 1), stride=(1, 1), bias=False)\n",
              "          (bn1): BatchNorm2d(256, eps=1e-05, momentum=0.1, affine=True, track_running_stats=True)\n",
              "          (conv2): Conv2d(256, 256, kernel_size=(3, 3), stride=(1, 1), padding=(1, 1), bias=False)\n",
              "          (bn2): BatchNorm2d(256, eps=1e-05, momentum=0.1, affine=True, track_running_stats=True)\n",
              "          (conv3): Conv2d(256, 1024, kernel_size=(1, 1), stride=(1, 1), bias=False)\n",
              "          (bn3): BatchNorm2d(1024, eps=1e-05, momentum=0.1, affine=True, track_running_stats=True)\n",
              "          (relu): ReLU(inplace=True)\n",
              "        )\n",
              "        (2): Bottleneck(\n",
              "          (conv1): Conv2d(1024, 256, kernel_size=(1, 1), stride=(1, 1), bias=False)\n",
              "          (bn1): BatchNorm2d(256, eps=1e-05, momentum=0.1, affine=True, track_running_stats=True)\n",
              "          (conv2): Conv2d(256, 256, kernel_size=(3, 3), stride=(1, 1), padding=(1, 1), bias=False)\n",
              "          (bn2): BatchNorm2d(256, eps=1e-05, momentum=0.1, affine=True, track_running_stats=True)\n",
              "          (conv3): Conv2d(256, 1024, kernel_size=(1, 1), stride=(1, 1), bias=False)\n",
              "          (bn3): BatchNorm2d(1024, eps=1e-05, momentum=0.1, affine=True, track_running_stats=True)\n",
              "          (relu): ReLU(inplace=True)\n",
              "        )\n",
              "        (3): Bottleneck(\n",
              "          (conv1): Conv2d(1024, 256, kernel_size=(1, 1), stride=(1, 1), bias=False)\n",
              "          (bn1): BatchNorm2d(256, eps=1e-05, momentum=0.1, affine=True, track_running_stats=True)\n",
              "          (conv2): Conv2d(256, 256, kernel_size=(3, 3), stride=(1, 1), padding=(1, 1), bias=False)\n",
              "          (bn2): BatchNorm2d(256, eps=1e-05, momentum=0.1, affine=True, track_running_stats=True)\n",
              "          (conv3): Conv2d(256, 1024, kernel_size=(1, 1), stride=(1, 1), bias=False)\n",
              "          (bn3): BatchNorm2d(1024, eps=1e-05, momentum=0.1, affine=True, track_running_stats=True)\n",
              "          (relu): ReLU(inplace=True)\n",
              "        )\n",
              "        (4): Bottleneck(\n",
              "          (conv1): Conv2d(1024, 256, kernel_size=(1, 1), stride=(1, 1), bias=False)\n",
              "          (bn1): BatchNorm2d(256, eps=1e-05, momentum=0.1, affine=True, track_running_stats=True)\n",
              "          (conv2): Conv2d(256, 256, kernel_size=(3, 3), stride=(1, 1), padding=(1, 1), bias=False)\n",
              "          (bn2): BatchNorm2d(256, eps=1e-05, momentum=0.1, affine=True, track_running_stats=True)\n",
              "          (conv3): Conv2d(256, 1024, kernel_size=(1, 1), stride=(1, 1), bias=False)\n",
              "          (bn3): BatchNorm2d(1024, eps=1e-05, momentum=0.1, affine=True, track_running_stats=True)\n",
              "          (relu): ReLU(inplace=True)\n",
              "        )\n",
              "        (5): Bottleneck(\n",
              "          (conv1): Conv2d(1024, 256, kernel_size=(1, 1), stride=(1, 1), bias=False)\n",
              "          (bn1): BatchNorm2d(256, eps=1e-05, momentum=0.1, affine=True, track_running_stats=True)\n",
              "          (conv2): Conv2d(256, 256, kernel_size=(3, 3), stride=(1, 1), padding=(1, 1), bias=False)\n",
              "          (bn2): BatchNorm2d(256, eps=1e-05, momentum=0.1, affine=True, track_running_stats=True)\n",
              "          (conv3): Conv2d(256, 1024, kernel_size=(1, 1), stride=(1, 1), bias=False)\n",
              "          (bn3): BatchNorm2d(1024, eps=1e-05, momentum=0.1, affine=True, track_running_stats=True)\n",
              "          (relu): ReLU(inplace=True)\n",
              "        )\n",
              "      )\n",
              "      (layer4): Sequential(\n",
              "        (0): Bottleneck(\n",
              "          (conv1): Conv2d(1024, 512, kernel_size=(1, 1), stride=(1, 1), bias=False)\n",
              "          (bn1): BatchNorm2d(512, eps=1e-05, momentum=0.1, affine=True, track_running_stats=True)\n",
              "          (conv2): Conv2d(512, 512, kernel_size=(3, 3), stride=(2, 2), padding=(1, 1), bias=False)\n",
              "          (bn2): BatchNorm2d(512, eps=1e-05, momentum=0.1, affine=True, track_running_stats=True)\n",
              "          (conv3): Conv2d(512, 2048, kernel_size=(1, 1), stride=(1, 1), bias=False)\n",
              "          (bn3): BatchNorm2d(2048, eps=1e-05, momentum=0.1, affine=True, track_running_stats=True)\n",
              "          (relu): ReLU(inplace=True)\n",
              "          (downsample): Sequential(\n",
              "            (0): Conv2d(1024, 2048, kernel_size=(1, 1), stride=(2, 2), bias=False)\n",
              "            (1): BatchNorm2d(2048, eps=1e-05, momentum=0.1, affine=True, track_running_stats=True)\n",
              "          )\n",
              "        )\n",
              "        (1): Bottleneck(\n",
              "          (conv1): Conv2d(2048, 512, kernel_size=(1, 1), stride=(1, 1), bias=False)\n",
              "          (bn1): BatchNorm2d(512, eps=1e-05, momentum=0.1, affine=True, track_running_stats=True)\n",
              "          (conv2): Conv2d(512, 512, kernel_size=(3, 3), stride=(1, 1), padding=(1, 1), bias=False)\n",
              "          (bn2): BatchNorm2d(512, eps=1e-05, momentum=0.1, affine=True, track_running_stats=True)\n",
              "          (conv3): Conv2d(512, 2048, kernel_size=(1, 1), stride=(1, 1), bias=False)\n",
              "          (bn3): BatchNorm2d(2048, eps=1e-05, momentum=0.1, affine=True, track_running_stats=True)\n",
              "          (relu): ReLU(inplace=True)\n",
              "        )\n",
              "        (2): Bottleneck(\n",
              "          (conv1): Conv2d(2048, 512, kernel_size=(1, 1), stride=(1, 1), bias=False)\n",
              "          (bn1): BatchNorm2d(512, eps=1e-05, momentum=0.1, affine=True, track_running_stats=True)\n",
              "          (conv2): Conv2d(512, 512, kernel_size=(3, 3), stride=(1, 1), padding=(1, 1), bias=False)\n",
              "          (bn2): BatchNorm2d(512, eps=1e-05, momentum=0.1, affine=True, track_running_stats=True)\n",
              "          (conv3): Conv2d(512, 2048, kernel_size=(1, 1), stride=(1, 1), bias=False)\n",
              "          (bn3): BatchNorm2d(2048, eps=1e-05, momentum=0.1, affine=True, track_running_stats=True)\n",
              "          (relu): ReLU(inplace=True)\n",
              "        )\n",
              "      )\n",
              "    )\n",
              "    (fpn): FeaturePyramidNetwork(\n",
              "      (inner_blocks): ModuleList(\n",
              "        (0): Conv2dNormActivation(\n",
              "          (0): Conv2d(256, 256, kernel_size=(1, 1), stride=(1, 1), bias=False)\n",
              "          (1): BatchNorm2d(256, eps=1e-05, momentum=0.1, affine=True, track_running_stats=True)\n",
              "        )\n",
              "        (1): Conv2dNormActivation(\n",
              "          (0): Conv2d(512, 256, kernel_size=(1, 1), stride=(1, 1), bias=False)\n",
              "          (1): BatchNorm2d(256, eps=1e-05, momentum=0.1, affine=True, track_running_stats=True)\n",
              "        )\n",
              "        (2): Conv2dNormActivation(\n",
              "          (0): Conv2d(1024, 256, kernel_size=(1, 1), stride=(1, 1), bias=False)\n",
              "          (1): BatchNorm2d(256, eps=1e-05, momentum=0.1, affine=True, track_running_stats=True)\n",
              "        )\n",
              "        (3): Conv2dNormActivation(\n",
              "          (0): Conv2d(2048, 256, kernel_size=(1, 1), stride=(1, 1), bias=False)\n",
              "          (1): BatchNorm2d(256, eps=1e-05, momentum=0.1, affine=True, track_running_stats=True)\n",
              "        )\n",
              "      )\n",
              "      (layer_blocks): ModuleList(\n",
              "        (0-3): 4 x Conv2dNormActivation(\n",
              "          (0): Conv2d(256, 256, kernel_size=(3, 3), stride=(1, 1), padding=(1, 1), bias=False)\n",
              "          (1): BatchNorm2d(256, eps=1e-05, momentum=0.1, affine=True, track_running_stats=True)\n",
              "        )\n",
              "      )\n",
              "      (extra_blocks): LastLevelMaxPool()\n",
              "    )\n",
              "  )\n",
              "  (rpn): RegionProposalNetwork(\n",
              "    (anchor_generator): AnchorGenerator()\n",
              "    (head): RPNHead(\n",
              "      (conv): Sequential(\n",
              "        (0): Conv2dNormActivation(\n",
              "          (0): Conv2d(256, 256, kernel_size=(3, 3), stride=(1, 1), padding=(1, 1))\n",
              "          (1): ReLU(inplace=True)\n",
              "        )\n",
              "        (1): Conv2dNormActivation(\n",
              "          (0): Conv2d(256, 256, kernel_size=(3, 3), stride=(1, 1), padding=(1, 1))\n",
              "          (1): ReLU(inplace=True)\n",
              "        )\n",
              "      )\n",
              "      (cls_logits): Conv2d(256, 3, kernel_size=(1, 1), stride=(1, 1))\n",
              "      (bbox_pred): Conv2d(256, 12, kernel_size=(1, 1), stride=(1, 1))\n",
              "    )\n",
              "  )\n",
              "  (roi_heads): RoIHeads(\n",
              "    (box_roi_pool): MultiScaleRoIAlign(featmap_names=['0', '1', '2', '3'], output_size=(7, 7), sampling_ratio=2)\n",
              "    (box_head): FastRCNNConvFCHead(\n",
              "      (0): Conv2dNormActivation(\n",
              "        (0): Conv2d(256, 256, kernel_size=(3, 3), stride=(1, 1), padding=(1, 1), bias=False)\n",
              "        (1): BatchNorm2d(256, eps=1e-05, momentum=0.1, affine=True, track_running_stats=True)\n",
              "        (2): ReLU(inplace=True)\n",
              "      )\n",
              "      (1): Conv2dNormActivation(\n",
              "        (0): Conv2d(256, 256, kernel_size=(3, 3), stride=(1, 1), padding=(1, 1), bias=False)\n",
              "        (1): BatchNorm2d(256, eps=1e-05, momentum=0.1, affine=True, track_running_stats=True)\n",
              "        (2): ReLU(inplace=True)\n",
              "      )\n",
              "      (2): Conv2dNormActivation(\n",
              "        (0): Conv2d(256, 256, kernel_size=(3, 3), stride=(1, 1), padding=(1, 1), bias=False)\n",
              "        (1): BatchNorm2d(256, eps=1e-05, momentum=0.1, affine=True, track_running_stats=True)\n",
              "        (2): ReLU(inplace=True)\n",
              "      )\n",
              "      (3): Conv2dNormActivation(\n",
              "        (0): Conv2d(256, 256, kernel_size=(3, 3), stride=(1, 1), padding=(1, 1), bias=False)\n",
              "        (1): BatchNorm2d(256, eps=1e-05, momentum=0.1, affine=True, track_running_stats=True)\n",
              "        (2): ReLU(inplace=True)\n",
              "      )\n",
              "      (4): Flatten(start_dim=1, end_dim=-1)\n",
              "      (5): Linear(in_features=12544, out_features=1024, bias=True)\n",
              "      (6): ReLU(inplace=True)\n",
              "    )\n",
              "    (box_predictor): FastRCNNPredictor(\n",
              "      (cls_score): Linear(in_features=1024, out_features=91, bias=True)\n",
              "      (bbox_pred): Linear(in_features=1024, out_features=364, bias=True)\n",
              "    )\n",
              "  )\n",
              ")"
            ]
          },
          "metadata": {},
          "execution_count": 3
        }
      ]
    },
    {
      "cell_type": "code",
      "source": [
        "input_tensor = torch.randn(1, 3, 224, 224)  # Start with a common input size for many torchvision models\n",
        "\n",
        "try:\n",
        "    with torch.no_grad():\n",
        "        output = model(input_tensor)\n",
        "    print(\"Model accepted input of shape:\", input_tensor.shape)\n",
        "except RuntimeError as e:\n",
        "    print(e)  # This will print the error message, which usually has useful shape information"
      ],
      "metadata": {
        "colab": {
          "base_uri": "https://localhost:8080/"
        },
        "id": "MS7Gtx9vgyow",
        "outputId": "44794aa4-492f-4aff-f540-556b0da8ed09"
      },
      "execution_count": 11,
      "outputs": [
        {
          "output_type": "stream",
          "name": "stdout",
          "text": [
            "Model accepted input of shape: torch.Size([1, 3, 224, 224])\n"
          ]
        }
      ]
    },
    {
      "cell_type": "code",
      "source": [
        "def do_trace(model, inp):\n",
        "    model_trace = torch.jit.trace(model, inp)\n",
        "    model_trace.eval()\n",
        "    return model_trace\n",
        "\n",
        "\n",
        "def dict_to_tuple(out_dict):\n",
        "    if \"masks\" in out_dict.keys():\n",
        "        return out_dict[\"boxes\"], out_dict[\"scores\"], out_dict[\"labels\"], out_dict[\"masks\"]\n",
        "    return out_dict[\"boxes\"], out_dict[\"scores\"], out_dict[\"labels\"]\n",
        "\n",
        "\n",
        "class TraceWrapper(torch.nn.Module):\n",
        "    def __init__(self, model):\n",
        "        super().__init__()\n",
        "        self.model = model\n",
        "\n",
        "    def forward(self, inp):\n",
        "        out = self.model(inp)\n",
        "        return dict_to_tuple(out[0])"
      ],
      "metadata": {
        "id": "U0lgXzu1w5bc"
      },
      "execution_count": 13,
      "outputs": []
    },
    {
      "cell_type": "code",
      "execution_count": 23,
      "metadata": {
        "id": "LYUlO5V-Rmbc",
        "colab": {
          "base_uri": "https://localhost:8080/"
        },
        "outputId": "97e4fedc-e04b-48a7-e913-eec6ca249da3"
      },
      "outputs": [
        {
          "output_type": "stream",
          "name": "stderr",
          "text": [
            "/usr/local/lib/python3.10/dist-packages/torch/nn/functional.py:3912: UserWarning: To copy construct from a tensor, it is recommended to use sourceTensor.clone().detach() or sourceTensor.clone().detach().requires_grad_(True), rather than torch.tensor(sourceTensor).\n",
            "  (torch.floor((input.size(i + 2).float() * torch.tensor(scale_factors[i], dtype=torch.float32)).float()))\n",
            "/usr/local/lib/python3.10/dist-packages/torchvision/ops/boxes.py:157: UserWarning: To copy construct from a tensor, it is recommended to use sourceTensor.clone().detach() or sourceTensor.clone().detach().requires_grad_(True), rather than torch.tensor(sourceTensor).\n",
            "  boxes_x = torch.min(boxes_x, torch.tensor(width, dtype=boxes.dtype, device=boxes.device))\n",
            "/usr/local/lib/python3.10/dist-packages/torchvision/ops/boxes.py:159: UserWarning: To copy construct from a tensor, it is recommended to use sourceTensor.clone().detach() or sourceTensor.clone().detach().requires_grad_(True), rather than torch.tensor(sourceTensor).\n",
            "  boxes_y = torch.min(boxes_y, torch.tensor(height, dtype=boxes.dtype, device=boxes.device))\n",
            "/usr/local/lib/python3.10/dist-packages/torch/__init__.py:1209: TracerWarning: Converting a tensor to a Python boolean might cause the trace to be incorrect. We can't record the data flow of Python values, so this value will be treated as a constant in the future. This means that the trace might not generalize to other inputs!\n",
            "  assert condition, message\n",
            "/usr/local/lib/python3.10/dist-packages/torchvision/models/detection/transform.py:298: UserWarning: To copy construct from a tensor, it is recommended to use sourceTensor.clone().detach() or sourceTensor.clone().detach().requires_grad_(True), rather than torch.tensor(sourceTensor).\n",
            "  torch.tensor(s, dtype=torch.float32, device=boxes.device)\n",
            "/usr/local/lib/python3.10/dist-packages/torchvision/models/detection/transform.py:299: UserWarning: To copy construct from a tensor, it is recommended to use sourceTensor.clone().detach() or sourceTensor.clone().detach().requires_grad_(True), rather than torch.tensor(sourceTensor).\n",
            "  / torch.tensor(s_orig, dtype=torch.float32, device=boxes.device)\n"
          ]
        }
      ],
      "source": [
        "# We grab the TorchScripted model via tracing\n",
        "input_shape = [1, 3, 224, 224]\n",
        "in_size = input_shape[-1]\n",
        "input_data = torch.randn(input_shape)\n",
        "with torch.jit.optimized_execution(True):\n",
        "    scripted_model = torch.jit.trace(TraceWrapper(model), input_data).eval()\n",
        "    # scripted_model = torch.jit.script(model, input_data).eval()"
      ]
    },
    {
      "cell_type": "markdown",
      "source": [
        "### Initialize preprocess"
      ],
      "metadata": {
        "id": "yPPQWWqnfsp7"
      }
    },
    {
      "cell_type": "code",
      "source": [
        "# # Preprocess the image and convert to tensor\n",
        "\n",
        "# my_preprocess = transforms.Compose(\n",
        "#     [\n",
        "#         transforms.Resize(256),\n",
        "#         transforms.CenterCrop(224),\n",
        "#         transforms.ToTensor(),\n",
        "#         transforms.Normalize(mean=[0.485, 0.456, 0.406], std=[0.229, 0.224, 0.225]),\n",
        "#     ]\n",
        "# )\n",
        "\n",
        "# Initialize the inference transforms\n",
        "preprocess = weights.transforms()"
      ],
      "metadata": {
        "id": "9GETypVWfz8q"
      },
      "execution_count": 6,
      "outputs": []
    },
    {
      "cell_type": "markdown",
      "metadata": {
        "id": "rOz4rhGWRmbc"
      },
      "source": [
        "## Load a test image\n"
      ]
    },
    {
      "cell_type": "code",
      "execution_count": 7,
      "metadata": {
        "id": "IwH7qC4tRmbc"
      },
      "outputs": [],
      "source": [
        "# img = read_image(\"test/assets/encode_jpeg/grace_hopper_517x606.jpg\")\n",
        "\n",
        "img_url = \"https://github.com/dmlc/mxnet.js/blob/main/data/cat.png?raw=true\"\n",
        "img_path = download_testdata(img_url, \"cat.png\", module=\"data\")\n",
        "img = Image.open(img_path).resize((224, 224))\n",
        "\n",
        "img_ = preprocess(img)\n",
        "batch = [img_]"
      ]
    },
    {
      "cell_type": "markdown",
      "metadata": {
        "id": "EMpm2pauRmbd"
      },
      "source": [
        "## Import the graph to Relay\n",
        "Convert PyTorch graph to Relay graph. The input name can be arbitrary.\n",
        "\n"
      ]
    },
    {
      "cell_type": "code",
      "source": [
        "scripted_model"
      ],
      "metadata": {
        "colab": {
          "base_uri": "https://localhost:8080/"
        },
        "id": "vIz6WkXWxtOY",
        "outputId": "7d51904c-fe4d-4419-c068-be3b4a50271b"
      },
      "execution_count": 16,
      "outputs": [
        {
          "output_type": "execute_result",
          "data": {
            "text/plain": [
              "TraceWrapper(\n",
              "  original_name=TraceWrapper\n",
              "  (model): FasterRCNN(\n",
              "    original_name=FasterRCNN\n",
              "    (transform): GeneralizedRCNNTransform(original_name=GeneralizedRCNNTransform)\n",
              "    (backbone): BackboneWithFPN(\n",
              "      original_name=BackboneWithFPN\n",
              "      (body): IntermediateLayerGetter(\n",
              "        original_name=IntermediateLayerGetter\n",
              "        (conv1): Conv2d(original_name=Conv2d)\n",
              "        (bn1): BatchNorm2d(original_name=BatchNorm2d)\n",
              "        (relu): ReLU(original_name=ReLU)\n",
              "        (maxpool): MaxPool2d(original_name=MaxPool2d)\n",
              "        (layer1): Sequential(\n",
              "          original_name=Sequential\n",
              "          (0): Bottleneck(\n",
              "            original_name=Bottleneck\n",
              "            (conv1): Conv2d(original_name=Conv2d)\n",
              "            (bn1): BatchNorm2d(original_name=BatchNorm2d)\n",
              "            (conv2): Conv2d(original_name=Conv2d)\n",
              "            (bn2): BatchNorm2d(original_name=BatchNorm2d)\n",
              "            (conv3): Conv2d(original_name=Conv2d)\n",
              "            (bn3): BatchNorm2d(original_name=BatchNorm2d)\n",
              "            (relu): ReLU(original_name=ReLU)\n",
              "            (downsample): Sequential(\n",
              "              original_name=Sequential\n",
              "              (0): Conv2d(original_name=Conv2d)\n",
              "              (1): BatchNorm2d(original_name=BatchNorm2d)\n",
              "            )\n",
              "          )\n",
              "          (1): Bottleneck(\n",
              "            original_name=Bottleneck\n",
              "            (conv1): Conv2d(original_name=Conv2d)\n",
              "            (bn1): BatchNorm2d(original_name=BatchNorm2d)\n",
              "            (conv2): Conv2d(original_name=Conv2d)\n",
              "            (bn2): BatchNorm2d(original_name=BatchNorm2d)\n",
              "            (conv3): Conv2d(original_name=Conv2d)\n",
              "            (bn3): BatchNorm2d(original_name=BatchNorm2d)\n",
              "            (relu): ReLU(original_name=ReLU)\n",
              "          )\n",
              "          (2): Bottleneck(\n",
              "            original_name=Bottleneck\n",
              "            (conv1): Conv2d(original_name=Conv2d)\n",
              "            (bn1): BatchNorm2d(original_name=BatchNorm2d)\n",
              "            (conv2): Conv2d(original_name=Conv2d)\n",
              "            (bn2): BatchNorm2d(original_name=BatchNorm2d)\n",
              "            (conv3): Conv2d(original_name=Conv2d)\n",
              "            (bn3): BatchNorm2d(original_name=BatchNorm2d)\n",
              "            (relu): ReLU(original_name=ReLU)\n",
              "          )\n",
              "        )\n",
              "        (layer2): Sequential(\n",
              "          original_name=Sequential\n",
              "          (0): Bottleneck(\n",
              "            original_name=Bottleneck\n",
              "            (conv1): Conv2d(original_name=Conv2d)\n",
              "            (bn1): BatchNorm2d(original_name=BatchNorm2d)\n",
              "            (conv2): Conv2d(original_name=Conv2d)\n",
              "            (bn2): BatchNorm2d(original_name=BatchNorm2d)\n",
              "            (conv3): Conv2d(original_name=Conv2d)\n",
              "            (bn3): BatchNorm2d(original_name=BatchNorm2d)\n",
              "            (relu): ReLU(original_name=ReLU)\n",
              "            (downsample): Sequential(\n",
              "              original_name=Sequential\n",
              "              (0): Conv2d(original_name=Conv2d)\n",
              "              (1): BatchNorm2d(original_name=BatchNorm2d)\n",
              "            )\n",
              "          )\n",
              "          (1): Bottleneck(\n",
              "            original_name=Bottleneck\n",
              "            (conv1): Conv2d(original_name=Conv2d)\n",
              "            (bn1): BatchNorm2d(original_name=BatchNorm2d)\n",
              "            (conv2): Conv2d(original_name=Conv2d)\n",
              "            (bn2): BatchNorm2d(original_name=BatchNorm2d)\n",
              "            (conv3): Conv2d(original_name=Conv2d)\n",
              "            (bn3): BatchNorm2d(original_name=BatchNorm2d)\n",
              "            (relu): ReLU(original_name=ReLU)\n",
              "          )\n",
              "          (2): Bottleneck(\n",
              "            original_name=Bottleneck\n",
              "            (conv1): Conv2d(original_name=Conv2d)\n",
              "            (bn1): BatchNorm2d(original_name=BatchNorm2d)\n",
              "            (conv2): Conv2d(original_name=Conv2d)\n",
              "            (bn2): BatchNorm2d(original_name=BatchNorm2d)\n",
              "            (conv3): Conv2d(original_name=Conv2d)\n",
              "            (bn3): BatchNorm2d(original_name=BatchNorm2d)\n",
              "            (relu): ReLU(original_name=ReLU)\n",
              "          )\n",
              "          (3): Bottleneck(\n",
              "            original_name=Bottleneck\n",
              "            (conv1): Conv2d(original_name=Conv2d)\n",
              "            (bn1): BatchNorm2d(original_name=BatchNorm2d)\n",
              "            (conv2): Conv2d(original_name=Conv2d)\n",
              "            (bn2): BatchNorm2d(original_name=BatchNorm2d)\n",
              "            (conv3): Conv2d(original_name=Conv2d)\n",
              "            (bn3): BatchNorm2d(original_name=BatchNorm2d)\n",
              "            (relu): ReLU(original_name=ReLU)\n",
              "          )\n",
              "        )\n",
              "        (layer3): Sequential(\n",
              "          original_name=Sequential\n",
              "          (0): Bottleneck(\n",
              "            original_name=Bottleneck\n",
              "            (conv1): Conv2d(original_name=Conv2d)\n",
              "            (bn1): BatchNorm2d(original_name=BatchNorm2d)\n",
              "            (conv2): Conv2d(original_name=Conv2d)\n",
              "            (bn2): BatchNorm2d(original_name=BatchNorm2d)\n",
              "            (conv3): Conv2d(original_name=Conv2d)\n",
              "            (bn3): BatchNorm2d(original_name=BatchNorm2d)\n",
              "            (relu): ReLU(original_name=ReLU)\n",
              "            (downsample): Sequential(\n",
              "              original_name=Sequential\n",
              "              (0): Conv2d(original_name=Conv2d)\n",
              "              (1): BatchNorm2d(original_name=BatchNorm2d)\n",
              "            )\n",
              "          )\n",
              "          (1): Bottleneck(\n",
              "            original_name=Bottleneck\n",
              "            (conv1): Conv2d(original_name=Conv2d)\n",
              "            (bn1): BatchNorm2d(original_name=BatchNorm2d)\n",
              "            (conv2): Conv2d(original_name=Conv2d)\n",
              "            (bn2): BatchNorm2d(original_name=BatchNorm2d)\n",
              "            (conv3): Conv2d(original_name=Conv2d)\n",
              "            (bn3): BatchNorm2d(original_name=BatchNorm2d)\n",
              "            (relu): ReLU(original_name=ReLU)\n",
              "          )\n",
              "          (2): Bottleneck(\n",
              "            original_name=Bottleneck\n",
              "            (conv1): Conv2d(original_name=Conv2d)\n",
              "            (bn1): BatchNorm2d(original_name=BatchNorm2d)\n",
              "            (conv2): Conv2d(original_name=Conv2d)\n",
              "            (bn2): BatchNorm2d(original_name=BatchNorm2d)\n",
              "            (conv3): Conv2d(original_name=Conv2d)\n",
              "            (bn3): BatchNorm2d(original_name=BatchNorm2d)\n",
              "            (relu): ReLU(original_name=ReLU)\n",
              "          )\n",
              "          (3): Bottleneck(\n",
              "            original_name=Bottleneck\n",
              "            (conv1): Conv2d(original_name=Conv2d)\n",
              "            (bn1): BatchNorm2d(original_name=BatchNorm2d)\n",
              "            (conv2): Conv2d(original_name=Conv2d)\n",
              "            (bn2): BatchNorm2d(original_name=BatchNorm2d)\n",
              "            (conv3): Conv2d(original_name=Conv2d)\n",
              "            (bn3): BatchNorm2d(original_name=BatchNorm2d)\n",
              "            (relu): ReLU(original_name=ReLU)\n",
              "          )\n",
              "          (4): Bottleneck(\n",
              "            original_name=Bottleneck\n",
              "            (conv1): Conv2d(original_name=Conv2d)\n",
              "            (bn1): BatchNorm2d(original_name=BatchNorm2d)\n",
              "            (conv2): Conv2d(original_name=Conv2d)\n",
              "            (bn2): BatchNorm2d(original_name=BatchNorm2d)\n",
              "            (conv3): Conv2d(original_name=Conv2d)\n",
              "            (bn3): BatchNorm2d(original_name=BatchNorm2d)\n",
              "            (relu): ReLU(original_name=ReLU)\n",
              "          )\n",
              "          (5): Bottleneck(\n",
              "            original_name=Bottleneck\n",
              "            (conv1): Conv2d(original_name=Conv2d)\n",
              "            (bn1): BatchNorm2d(original_name=BatchNorm2d)\n",
              "            (conv2): Conv2d(original_name=Conv2d)\n",
              "            (bn2): BatchNorm2d(original_name=BatchNorm2d)\n",
              "            (conv3): Conv2d(original_name=Conv2d)\n",
              "            (bn3): BatchNorm2d(original_name=BatchNorm2d)\n",
              "            (relu): ReLU(original_name=ReLU)\n",
              "          )\n",
              "        )\n",
              "        (layer4): Sequential(\n",
              "          original_name=Sequential\n",
              "          (0): Bottleneck(\n",
              "            original_name=Bottleneck\n",
              "            (conv1): Conv2d(original_name=Conv2d)\n",
              "            (bn1): BatchNorm2d(original_name=BatchNorm2d)\n",
              "            (conv2): Conv2d(original_name=Conv2d)\n",
              "            (bn2): BatchNorm2d(original_name=BatchNorm2d)\n",
              "            (conv3): Conv2d(original_name=Conv2d)\n",
              "            (bn3): BatchNorm2d(original_name=BatchNorm2d)\n",
              "            (relu): ReLU(original_name=ReLU)\n",
              "            (downsample): Sequential(\n",
              "              original_name=Sequential\n",
              "              (0): Conv2d(original_name=Conv2d)\n",
              "              (1): BatchNorm2d(original_name=BatchNorm2d)\n",
              "            )\n",
              "          )\n",
              "          (1): Bottleneck(\n",
              "            original_name=Bottleneck\n",
              "            (conv1): Conv2d(original_name=Conv2d)\n",
              "            (bn1): BatchNorm2d(original_name=BatchNorm2d)\n",
              "            (conv2): Conv2d(original_name=Conv2d)\n",
              "            (bn2): BatchNorm2d(original_name=BatchNorm2d)\n",
              "            (conv3): Conv2d(original_name=Conv2d)\n",
              "            (bn3): BatchNorm2d(original_name=BatchNorm2d)\n",
              "            (relu): ReLU(original_name=ReLU)\n",
              "          )\n",
              "          (2): Bottleneck(\n",
              "            original_name=Bottleneck\n",
              "            (conv1): Conv2d(original_name=Conv2d)\n",
              "            (bn1): BatchNorm2d(original_name=BatchNorm2d)\n",
              "            (conv2): Conv2d(original_name=Conv2d)\n",
              "            (bn2): BatchNorm2d(original_name=BatchNorm2d)\n",
              "            (conv3): Conv2d(original_name=Conv2d)\n",
              "            (bn3): BatchNorm2d(original_name=BatchNorm2d)\n",
              "            (relu): ReLU(original_name=ReLU)\n",
              "          )\n",
              "        )\n",
              "      )\n",
              "      (fpn): FeaturePyramidNetwork(\n",
              "        original_name=FeaturePyramidNetwork\n",
              "        (inner_blocks): ModuleList(\n",
              "          original_name=ModuleList\n",
              "          (0): Conv2dNormActivation(\n",
              "            original_name=Conv2dNormActivation\n",
              "            (0): Conv2d(original_name=Conv2d)\n",
              "            (1): BatchNorm2d(original_name=BatchNorm2d)\n",
              "          )\n",
              "          (1): Conv2dNormActivation(\n",
              "            original_name=Conv2dNormActivation\n",
              "            (0): Conv2d(original_name=Conv2d)\n",
              "            (1): BatchNorm2d(original_name=BatchNorm2d)\n",
              "          )\n",
              "          (2): Conv2dNormActivation(\n",
              "            original_name=Conv2dNormActivation\n",
              "            (0): Conv2d(original_name=Conv2d)\n",
              "            (1): BatchNorm2d(original_name=BatchNorm2d)\n",
              "          )\n",
              "          (3): Conv2dNormActivation(\n",
              "            original_name=Conv2dNormActivation\n",
              "            (0): Conv2d(original_name=Conv2d)\n",
              "            (1): BatchNorm2d(original_name=BatchNorm2d)\n",
              "          )\n",
              "        )\n",
              "        (layer_blocks): ModuleList(\n",
              "          original_name=ModuleList\n",
              "          (0): Conv2dNormActivation(\n",
              "            original_name=Conv2dNormActivation\n",
              "            (0): Conv2d(original_name=Conv2d)\n",
              "            (1): BatchNorm2d(original_name=BatchNorm2d)\n",
              "          )\n",
              "          (1): Conv2dNormActivation(\n",
              "            original_name=Conv2dNormActivation\n",
              "            (0): Conv2d(original_name=Conv2d)\n",
              "            (1): BatchNorm2d(original_name=BatchNorm2d)\n",
              "          )\n",
              "          (2): Conv2dNormActivation(\n",
              "            original_name=Conv2dNormActivation\n",
              "            (0): Conv2d(original_name=Conv2d)\n",
              "            (1): BatchNorm2d(original_name=BatchNorm2d)\n",
              "          )\n",
              "          (3): Conv2dNormActivation(\n",
              "            original_name=Conv2dNormActivation\n",
              "            (0): Conv2d(original_name=Conv2d)\n",
              "            (1): BatchNorm2d(original_name=BatchNorm2d)\n",
              "          )\n",
              "        )\n",
              "        (extra_blocks): LastLevelMaxPool(original_name=LastLevelMaxPool)\n",
              "      )\n",
              "    )\n",
              "    (rpn): RegionProposalNetwork(\n",
              "      original_name=RegionProposalNetwork\n",
              "      (anchor_generator): AnchorGenerator(original_name=AnchorGenerator)\n",
              "      (head): RPNHead(\n",
              "        original_name=RPNHead\n",
              "        (conv): Sequential(\n",
              "          original_name=Sequential\n",
              "          (0): Conv2dNormActivation(\n",
              "            original_name=Conv2dNormActivation\n",
              "            (0): Conv2d(original_name=Conv2d)\n",
              "            (1): ReLU(original_name=ReLU)\n",
              "          )\n",
              "          (1): Conv2dNormActivation(\n",
              "            original_name=Conv2dNormActivation\n",
              "            (0): Conv2d(original_name=Conv2d)\n",
              "            (1): ReLU(original_name=ReLU)\n",
              "          )\n",
              "        )\n",
              "        (cls_logits): Conv2d(original_name=Conv2d)\n",
              "        (bbox_pred): Conv2d(original_name=Conv2d)\n",
              "      )\n",
              "    )\n",
              "    (roi_heads): RoIHeads(\n",
              "      original_name=RoIHeads\n",
              "      (box_roi_pool): MultiScaleRoIAlign(original_name=MultiScaleRoIAlign)\n",
              "      (box_head): FastRCNNConvFCHead(\n",
              "        original_name=FastRCNNConvFCHead\n",
              "        (0): Conv2dNormActivation(\n",
              "          original_name=Conv2dNormActivation\n",
              "          (0): Conv2d(original_name=Conv2d)\n",
              "          (1): BatchNorm2d(original_name=BatchNorm2d)\n",
              "          (2): ReLU(original_name=ReLU)\n",
              "        )\n",
              "        (1): Conv2dNormActivation(\n",
              "          original_name=Conv2dNormActivation\n",
              "          (0): Conv2d(original_name=Conv2d)\n",
              "          (1): BatchNorm2d(original_name=BatchNorm2d)\n",
              "          (2): ReLU(original_name=ReLU)\n",
              "        )\n",
              "        (2): Conv2dNormActivation(\n",
              "          original_name=Conv2dNormActivation\n",
              "          (0): Conv2d(original_name=Conv2d)\n",
              "          (1): BatchNorm2d(original_name=BatchNorm2d)\n",
              "          (2): ReLU(original_name=ReLU)\n",
              "        )\n",
              "        (3): Conv2dNormActivation(\n",
              "          original_name=Conv2dNormActivation\n",
              "          (0): Conv2d(original_name=Conv2d)\n",
              "          (1): BatchNorm2d(original_name=BatchNorm2d)\n",
              "          (2): ReLU(original_name=ReLU)\n",
              "        )\n",
              "        (4): Flatten(original_name=Flatten)\n",
              "        (5): Linear(original_name=Linear)\n",
              "        (6): ReLU(original_name=ReLU)\n",
              "      )\n",
              "      (box_predictor): FastRCNNPredictor(\n",
              "        original_name=FastRCNNPredictor\n",
              "        (cls_score): Linear(original_name=Linear)\n",
              "        (bbox_pred): Linear(original_name=Linear)\n",
              "      )\n",
              "    )\n",
              "  )\n",
              ")"
            ]
          },
          "metadata": {},
          "execution_count": 16
        }
      ]
    },
    {
      "cell_type": "code",
      "execution_count": 19,
      "metadata": {
        "id": "a-jHWzAARmbd"
      },
      "outputs": [],
      "source": [
        "input_name = \"input0\"\n",
        "# shape_list = [(input_name, img_.shape)]\n",
        "shape_list = [(input_name, input_shape)]\n",
        "mod, params = relay.frontend.from_pytorch(scripted_model, shape_list)"
      ]
    },
    {
      "cell_type": "code",
      "source": [
        "img_url = (\n",
        "    \"https://raw.githubusercontent.com/dmlc/web-data/master/gluoncv/detection/street_small.jpg\"\n",
        ")\n",
        "img_path = download_testdata(img_url, \"test_street_small.jpg\", module=\"data\")\n",
        "\n",
        "img = cv2.imread(img_path).astype(\"float32\")\n",
        "img = cv2.resize(img, (in_size, in_size))\n",
        "img = cv2.cvtColor(img, cv2.COLOR_BGR2RGB)\n",
        "img = np.transpose(img / 255.0, [2, 0, 1])\n",
        "img = np.expand_dims(img, axis=0)"
      ],
      "metadata": {
        "id": "ASXY60swzFwU"
      },
      "execution_count": 28,
      "outputs": []
    },
    {
      "cell_type": "code",
      "source": [
        "# Step 4: Use the model and visualize the prediction\n",
        "# prediction = model(batch)[0]\n",
        "prediction = model(torch.from_numpy(img))[0]\n",
        "labels = [weights.meta[\"categories\"][i] for i in prediction[\"labels\"]]"
      ],
      "metadata": {
        "id": "ynBUNTR61COW"
      },
      "execution_count": null,
      "outputs": []
    },
    {
      "cell_type": "code",
      "source": [
        "box = draw_bounding_boxes(torch.from_numpy((img*256).astype(np.uint8))[0], boxes=prediction[\"boxes\"],\n",
        "                          labels=labels,\n",
        "                          colors=\"red\",\n",
        "                          width=4, font_size=30)\n",
        "im = to_pil_image(box.detach())\n",
        "im.show()"
      ],
      "metadata": {
        "id": "GD9KTSLhewHW",
        "colab": {
          "base_uri": "https://localhost:8080/"
        },
        "outputId": "5093b8bc-9639-4dc6-f865-11efa040d572"
      },
      "execution_count": 43,
      "outputs": [
        {
          "output_type": "stream",
          "name": "stderr",
          "text": [
            "/usr/local/lib/python3.10/dist-packages/torchvision/utils.py:232: UserWarning: Argument 'font_size' will be ignored since 'font' is not set.\n",
            "  warnings.warn(\"Argument 'font_size' will be ignored since 'font' is not set.\")\n"
          ]
        }
      ]
    },
    {
      "cell_type": "code",
      "source": [
        "im"
      ],
      "metadata": {
        "colab": {
          "base_uri": "https://localhost:8080/",
          "height": 241
        },
        "id": "WVZe_2S64SK5",
        "outputId": "3f97b90d-cc5a-4270-debd-9fc83314a172"
      },
      "execution_count": 50,
      "outputs": [
        {
          "output_type": "execute_result",
          "data": {
            "text/plain": [
              "<PIL.Image.Image image mode=RGB size=224x224>"
            ],
            "image/png": "[encoded data removed]"
          },
          "metadata": {},
          "execution_count": 50
        }
      ]
    },
    {
      "cell_type": "code",
      "source": [
        "torch.from_numpy((img*256).astype(np.uint8)).shape"
      ],
      "metadata": {
        "colab": {
          "base_uri": "https://localhost:8080/"
        },
        "id": "-CS2LzOh09kY",
        "outputId": "7f56354f-ea20-42eb-8a59-84174e1745d4"
      },
      "execution_count": 41,
      "outputs": [
        {
          "output_type": "execute_result",
          "data": {
            "text/plain": [
              "torch.Size([1, 3, 224, 224])"
            ]
          },
          "metadata": {},
          "execution_count": 41
        }
      ]
    },
    {
      "cell_type": "markdown",
      "metadata": {
        "id": "xQL7rW5_Rmbd"
      },
      "source": [
        "## Relay Build\n",
        "Compile the graph to llvm target with given input specification.\n",
        "\n"
      ]
    },
    {
      "cell_type": "code",
      "source": [
        "# Add \"-libs=mkl\" to get best performance on x86 target.\n",
        "# For x86 machine supports AVX512, the complete target is\n",
        "# \"llvm -mcpu=skylake-avx512 -libs=mkl\"\n",
        "target = \"llvm\"\n",
        "\n",
        "with tvm.transform.PassContext(opt_level=3, disabled_pass=[\"FoldScaleAxis\"]):\n",
        "    vm_exec = relay.vm.compile(mod, target=target, params=params)"
      ],
      "metadata": {
        "colab": {
          "base_uri": "https://localhost:8080/"
        },
        "id": "dSG6XkYi2Pvm",
        "outputId": "a4a0632b-6e71-4ca3-9606-25a4d5641222"
      },
      "execution_count": 46,
      "outputs": [
        {
          "output_type": "stream",
          "name": "stderr",
          "text": [
            "WARNING:autotvm:Cannot find config for target=llvm -keys=cpu , workload=('conv2d_NCHWc.x86', ('TENSOR', (any_dim, 64, 7, 7, 4), 'float32'), ('TENSOR', (64, 64, 3, 3, 4, 4), 'float32'), (1, 1), (1, 1, 1, 1), (1, 1), 'NCHW4c', 'NCHW4c', 'float32'). A fallback configuration is used, which may bring great performance regression.\n",
            "WARNING:autotvm:Cannot find config for target=llvm -keys=cpu , workload=('dense_pack.x86', ('TENSOR', (any_dim, 12544), 'float32'), ('TENSOR', (128, 12544, 8), 'float32'), None, 'float32'). A fallback configuration is used, which may bring great performance regression.\n",
            "WARNING:autotvm:Cannot find config for target=llvm -keys=cpu , workload=('dense_pack.x86', ('TENSOR', (any_dim, 1024), 'float32'), ('TENSOR', (13, 1024, 7), 'float32'), None, 'float32'). A fallback configuration is used, which may bring great performance regression.\n",
            "WARNING:autotvm:Cannot find config for target=llvm -keys=cpu , workload=('dense_pack.x86', ('TENSOR', (any_dim, 1024), 'float32'), ('TENSOR', (52, 1024, 7), 'float32'), None, 'float32'). A fallback configuration is used, which may bring great performance regression.\n"
          ]
        }
      ]
    },
    {
      "cell_type": "code",
      "execution_count": 47,
      "metadata": {
        "id": "wTKI5RM2Rmbd"
      },
      "outputs": [],
      "source": [
        "# target = tvm.target.Target(\"llvm\", host=\"llvm\")\n",
        "# dev = tvm.cpu(0)\n",
        "# with tvm.transform.PassContext(opt_level=3):\n",
        "#     lib = relay.build(mod, target=target, params=params)"
      ]
    },
    {
      "cell_type": "markdown",
      "metadata": {
        "id": "GN6JQRl4Rmbe"
      },
      "source": [
        "## Execute the portable graph on TVM\n",
        "Now we can try deploying the compiled model on target.\n",
        "\n"
      ]
    },
    {
      "cell_type": "code",
      "execution_count": null,
      "metadata": {
        "id": "4mwYv-7-Rmbe"
      },
      "outputs": [],
      "source": [
        "# from tvm.contrib import graph_executor\n",
        "\n",
        "# dtype = \"float32\"\n",
        "# m = graph_executor.GraphModule(lib[\"default\"](dev))\n",
        "# # Set inputs\n",
        "# m.set_input(input_name, tvm.nd.array(img.astype(dtype)))\n",
        "# # Execute\n",
        "# m.run()\n",
        "# # Get outputs\n",
        "# tvm_output = m.get_output(0)"
      ]
    },
    {
      "cell_type": "code",
      "source": [
        "from tvm.runtime.vm import VirtualMachine\n",
        "dev = tvm.cpu()\n",
        "vm = VirtualMachine(vm_exec, dev)\n",
        "vm.set_input(\"main\", **{input_name: img})\n",
        "tvm_res = vm.run()"
      ],
      "metadata": {
        "id": "FSi75lPg4I2d"
      },
      "execution_count": 49,
      "outputs": []
    },
    {
      "cell_type": "code",
      "source": [
        "tvm_res[0]"
      ],
      "metadata": {
        "colab": {
          "base_uri": "https://localhost:8080/"
        },
        "id": "tAtKfTdG4wdd",
        "outputId": "7167f576-b095-427a-e996-023d32666c99"
      },
      "execution_count": 58,
      "outputs": [
        {
          "output_type": "execute_result",
          "data": {
            "text/plain": [
              "<tvm.nd.NDArray shape=(8, 4), cpu(0)>\n",
              "array([[1.14748774e+01, 9.29637451e+01, 4.60682144e+01, 1.58609161e+02],\n",
              "       [1.31462143e+02, 1.18979637e+02, 2.08951797e+02, 1.74730743e+02],\n",
              "       [1.55672668e+02, 8.46872025e+01, 1.93743652e+02, 1.67232513e+02],\n",
              "       [1.11028305e+02, 9.90307465e+01, 1.62505615e+02, 1.30148941e+02],\n",
              "       [7.44358368e+01, 9.04601440e+01, 9.39797134e+01, 1.45087402e+02],\n",
              "       [8.73177338e+01, 8.78897171e+01, 1.13082916e+02, 1.43997055e+02],\n",
              "       [1.01673892e-02, 1.01236244e+02, 8.12234402e+00, 1.15229187e+02],\n",
              "       [9.66072998e+01, 9.20510330e+01, 1.22877449e+02, 1.21712151e+02]],\n",
              "      dtype=float32)"
            ]
          },
          "metadata": {},
          "execution_count": 58
        }
      ]
    },
    {
      "cell_type": "code",
      "source": [
        "tvm_res[0].asnumpy()"
      ],
      "metadata": {
        "colab": {
          "base_uri": "https://localhost:8080/"
        },
        "id": "hFr5oOTf5F8W",
        "outputId": "ad682b6e-c265-4bcf-d807-933991fe1fec"
      },
      "execution_count": 72,
      "outputs": [
        {
          "output_type": "execute_result",
          "data": {
            "text/plain": [
              "array([[1.14748774e+01, 9.29637451e+01, 4.60682144e+01, 1.58609161e+02],\n",
              "       [1.31462143e+02, 1.18979637e+02, 2.08951797e+02, 1.74730743e+02],\n",
              "       [1.55672668e+02, 8.46872025e+01, 1.93743652e+02, 1.67232513e+02],\n",
              "       [1.11028305e+02, 9.90307465e+01, 1.62505615e+02, 1.30148941e+02],\n",
              "       [7.44358368e+01, 9.04601440e+01, 9.39797134e+01, 1.45087402e+02],\n",
              "       [8.73177338e+01, 8.78897171e+01, 1.13082916e+02, 1.43997055e+02],\n",
              "       [1.01673892e-02, 1.01236244e+02, 8.12234402e+00, 1.15229187e+02],\n",
              "       [9.66072998e+01, 9.20510330e+01, 1.22877449e+02, 1.21712151e+02]],\n",
              "      dtype=float32)"
            ]
          },
          "metadata": {},
          "execution_count": 72
        }
      ]
    },
    {
      "cell_type": "code",
      "source": [
        "box = draw_bounding_boxes(torch.from_numpy((img*256).astype(np.uint8))[0], boxes=torch.from_numpy(tvm_res[0].asnumpy()),\n",
        "                          labels=torch.from_numpy(tvm_res[2].asnumpy()),\n",
        "                          colors=\"red\",\n",
        "                          width=4, font_size=30)\n",
        "im = to_pil_image(box.detach())\n",
        "im.show()"
      ],
      "metadata": {
        "colab": {
          "base_uri": "https://localhost:8080/",
          "height": 425
        },
        "id": "Q0alMbWp4mGZ",
        "outputId": "9ae590cf-7a2a-4b94-9776-08ccfe1bd4b4"
      },
      "execution_count": 78,
      "outputs": [
        {
          "output_type": "error",
          "ename": "RuntimeError",
          "evalue": "ignored",
          "traceback": [
            "\u001b[0;31m---------------------------------------------------------------------------\u001b[0m",
            "\u001b[0;31mRuntimeError\u001b[0m                              Traceback (most recent call last)",
            "\u001b[0;32m<ipython-input-78-2fc61dbad656>\u001b[0m in \u001b[0;36m<cell line: 1>\u001b[0;34m()\u001b[0m\n\u001b[0;32m----> 1\u001b[0;31m box = draw_bounding_boxes(torch.from_numpy((img*256).astype(np.uint8))[0], boxes=torch.from_numpy(tvm_res[0].asnumpy()),\n\u001b[0m\u001b[1;32m      2\u001b[0m                           \u001b[0mlabels\u001b[0m\u001b[0;34m=\u001b[0m\u001b[0mtorch\u001b[0m\u001b[0;34m.\u001b[0m\u001b[0mfrom_numpy\u001b[0m\u001b[0;34m(\u001b[0m\u001b[0mtvm_res\u001b[0m\u001b[0;34m[\u001b[0m\u001b[0;36m2\u001b[0m\u001b[0;34m]\u001b[0m\u001b[0;34m.\u001b[0m\u001b[0masnumpy\u001b[0m\u001b[0;34m(\u001b[0m\u001b[0;34m)\u001b[0m\u001b[0;34m)\u001b[0m\u001b[0;34m,\u001b[0m\u001b[0;34m\u001b[0m\u001b[0;34m\u001b[0m\u001b[0m\n\u001b[1;32m      3\u001b[0m                           \u001b[0mcolors\u001b[0m\u001b[0;34m=\u001b[0m\u001b[0;34m\"red\"\u001b[0m\u001b[0;34m,\u001b[0m\u001b[0;34m\u001b[0m\u001b[0;34m\u001b[0m\u001b[0m\n\u001b[1;32m      4\u001b[0m                           width=4, font_size=30)\n\u001b[1;32m      5\u001b[0m \u001b[0mim\u001b[0m \u001b[0;34m=\u001b[0m \u001b[0mto_pil_image\u001b[0m\u001b[0;34m(\u001b[0m\u001b[0mbox\u001b[0m\u001b[0;34m.\u001b[0m\u001b[0mdetach\u001b[0m\u001b[0;34m(\u001b[0m\u001b[0;34m)\u001b[0m\u001b[0;34m)\u001b[0m\u001b[0;34m\u001b[0m\u001b[0;34m\u001b[0m\u001b[0m\n",
            "\u001b[0;32m/usr/local/lib/python3.10/dist-packages/torch/utils/_contextlib.py\u001b[0m in \u001b[0;36mdecorate_context\u001b[0;34m(*args, **kwargs)\u001b[0m\n\u001b[1;32m    113\u001b[0m     \u001b[0;32mdef\u001b[0m \u001b[0mdecorate_context\u001b[0m\u001b[0;34m(\u001b[0m\u001b[0;34m*\u001b[0m\u001b[0margs\u001b[0m\u001b[0;34m,\u001b[0m \u001b[0;34m**\u001b[0m\u001b[0mkwargs\u001b[0m\u001b[0;34m)\u001b[0m\u001b[0;34m:\u001b[0m\u001b[0;34m\u001b[0m\u001b[0;34m\u001b[0m\u001b[0m\n\u001b[1;32m    114\u001b[0m         \u001b[0;32mwith\u001b[0m \u001b[0mctx_factory\u001b[0m\u001b[0;34m(\u001b[0m\u001b[0;34m)\u001b[0m\u001b[0;34m:\u001b[0m\u001b[0;34m\u001b[0m\u001b[0;34m\u001b[0m\u001b[0m\n\u001b[0;32m--> 115\u001b[0;31m             \u001b[0;32mreturn\u001b[0m \u001b[0mfunc\u001b[0m\u001b[0;34m(\u001b[0m\u001b[0;34m*\u001b[0m\u001b[0margs\u001b[0m\u001b[0;34m,\u001b[0m \u001b[0;34m**\u001b[0m\u001b[0mkwargs\u001b[0m\u001b[0;34m)\u001b[0m\u001b[0;34m\u001b[0m\u001b[0;34m\u001b[0m\u001b[0m\n\u001b[0m\u001b[1;32m    116\u001b[0m \u001b[0;34m\u001b[0m\u001b[0m\n\u001b[1;32m    117\u001b[0m     \u001b[0;32mreturn\u001b[0m \u001b[0mdecorate_context\u001b[0m\u001b[0;34m\u001b[0m\u001b[0;34m\u001b[0m\u001b[0m\n",
            "\u001b[0;32m/usr/local/lib/python3.10/dist-packages/torchvision/utils.py\u001b[0m in \u001b[0;36mdraw_bounding_boxes\u001b[0;34m(image, boxes, labels, colors, fill, width, font, font_size)\u001b[0m\n\u001b[1;32m    257\u001b[0m         \u001b[0;32mif\u001b[0m \u001b[0mlabel\u001b[0m \u001b[0;32mis\u001b[0m \u001b[0;32mnot\u001b[0m \u001b[0;32mNone\u001b[0m\u001b[0;34m:\u001b[0m\u001b[0;34m\u001b[0m\u001b[0;34m\u001b[0m\u001b[0m\n\u001b[1;32m    258\u001b[0m             \u001b[0mmargin\u001b[0m \u001b[0;34m=\u001b[0m \u001b[0mwidth\u001b[0m \u001b[0;34m+\u001b[0m \u001b[0;36m1\u001b[0m\u001b[0;34m\u001b[0m\u001b[0;34m\u001b[0m\u001b[0m\n\u001b[0;32m--> 259\u001b[0;31m             \u001b[0mdraw\u001b[0m\u001b[0;34m.\u001b[0m\u001b[0mtext\u001b[0m\u001b[0;34m(\u001b[0m\u001b[0;34m(\u001b[0m\u001b[0mbbox\u001b[0m\u001b[0;34m[\u001b[0m\u001b[0;36m0\u001b[0m\u001b[0;34m]\u001b[0m \u001b[0;34m+\u001b[0m \u001b[0mmargin\u001b[0m\u001b[0;34m,\u001b[0m \u001b[0mbbox\u001b[0m\u001b[0;34m[\u001b[0m\u001b[0;36m1\u001b[0m\u001b[0;34m]\u001b[0m \u001b[0;34m+\u001b[0m \u001b[0mmargin\u001b[0m\u001b[0;34m)\u001b[0m\u001b[0;34m,\u001b[0m \u001b[0mlabel\u001b[0m\u001b[0;34m,\u001b[0m \u001b[0mfill\u001b[0m\u001b[0;34m=\u001b[0m\u001b[0mcolor\u001b[0m\u001b[0;34m,\u001b[0m \u001b[0mfont\u001b[0m\u001b[0;34m=\u001b[0m\u001b[0mtxt_font\u001b[0m\u001b[0;34m)\u001b[0m\u001b[0;34m\u001b[0m\u001b[0;34m\u001b[0m\u001b[0m\n\u001b[0m\u001b[1;32m    260\u001b[0m \u001b[0;34m\u001b[0m\u001b[0m\n\u001b[1;32m    261\u001b[0m     \u001b[0;32mreturn\u001b[0m \u001b[0mtorch\u001b[0m\u001b[0;34m.\u001b[0m\u001b[0mfrom_numpy\u001b[0m\u001b[0;34m(\u001b[0m\u001b[0mnp\u001b[0m\u001b[0;34m.\u001b[0m\u001b[0marray\u001b[0m\u001b[0;34m(\u001b[0m\u001b[0mimg_to_draw\u001b[0m\u001b[0;34m)\u001b[0m\u001b[0;34m)\u001b[0m\u001b[0;34m.\u001b[0m\u001b[0mpermute\u001b[0m\u001b[0;34m(\u001b[0m\u001b[0;36m2\u001b[0m\u001b[0;34m,\u001b[0m \u001b[0;36m0\u001b[0m\u001b[0;34m,\u001b[0m \u001b[0;36m1\u001b[0m\u001b[0;34m)\u001b[0m\u001b[0;34m.\u001b[0m\u001b[0mto\u001b[0m\u001b[0;34m(\u001b[0m\u001b[0mdtype\u001b[0m\u001b[0;34m=\u001b[0m\u001b[0mtorch\u001b[0m\u001b[0;34m.\u001b[0m\u001b[0muint8\u001b[0m\u001b[0;34m)\u001b[0m\u001b[0;34m\u001b[0m\u001b[0;34m\u001b[0m\u001b[0m\n",
            "\u001b[0;32m/usr/local/lib/python3.10/dist-packages/PIL/ImageDraw.py\u001b[0m in \u001b[0;36mtext\u001b[0;34m(self, xy, text, fill, font, anchor, spacing, align, direction, features, language, stroke_width, stroke_fill, embedded_color, *args, **kwargs)\u001b[0m\n\u001b[1;32m    421\u001b[0m         \u001b[0;34m**\u001b[0m\u001b[0mkwargs\u001b[0m\u001b[0;34m,\u001b[0m\u001b[0;34m\u001b[0m\u001b[0;34m\u001b[0m\u001b[0m\n\u001b[1;32m    422\u001b[0m     ):\n\u001b[0;32m--> 423\u001b[0;31m         \u001b[0;32mif\u001b[0m \u001b[0mself\u001b[0m\u001b[0;34m.\u001b[0m\u001b[0m_multiline_check\u001b[0m\u001b[0;34m(\u001b[0m\u001b[0mtext\u001b[0m\u001b[0;34m)\u001b[0m\u001b[0;34m:\u001b[0m\u001b[0;34m\u001b[0m\u001b[0;34m\u001b[0m\u001b[0m\n\u001b[0m\u001b[1;32m    424\u001b[0m             return self.multiline_text(\n\u001b[1;32m    425\u001b[0m                 \u001b[0mxy\u001b[0m\u001b[0;34m,\u001b[0m\u001b[0;34m\u001b[0m\u001b[0;34m\u001b[0m\u001b[0m\n",
            "\u001b[0;32m/usr/local/lib/python3.10/dist-packages/PIL/ImageDraw.py\u001b[0m in \u001b[0;36m_multiline_check\u001b[0;34m(self, text)\u001b[0m\n\u001b[1;32m    383\u001b[0m         \u001b[0msplit_character\u001b[0m \u001b[0;34m=\u001b[0m \u001b[0;34m\"\\n\"\u001b[0m \u001b[0;32mif\u001b[0m \u001b[0misinstance\u001b[0m\u001b[0;34m(\u001b[0m\u001b[0mtext\u001b[0m\u001b[0;34m,\u001b[0m \u001b[0mstr\u001b[0m\u001b[0;34m)\u001b[0m \u001b[0;32melse\u001b[0m \u001b[0;34mb\"\\n\"\u001b[0m\u001b[0;34m\u001b[0m\u001b[0;34m\u001b[0m\u001b[0m\n\u001b[1;32m    384\u001b[0m \u001b[0;34m\u001b[0m\u001b[0m\n\u001b[0;32m--> 385\u001b[0;31m         \u001b[0;32mreturn\u001b[0m \u001b[0msplit_character\u001b[0m \u001b[0;32min\u001b[0m \u001b[0mtext\u001b[0m\u001b[0;34m\u001b[0m\u001b[0;34m\u001b[0m\u001b[0m\n\u001b[0m\u001b[1;32m    386\u001b[0m \u001b[0;34m\u001b[0m\u001b[0m\n\u001b[1;32m    387\u001b[0m     \u001b[0;32mdef\u001b[0m \u001b[0m_multiline_split\u001b[0m\u001b[0;34m(\u001b[0m\u001b[0mself\u001b[0m\u001b[0;34m,\u001b[0m \u001b[0mtext\u001b[0m\u001b[0;34m)\u001b[0m\u001b[0;34m:\u001b[0m\u001b[0;34m\u001b[0m\u001b[0;34m\u001b[0m\u001b[0m\n",
            "\u001b[0;32m/usr/local/lib/python3.10/dist-packages/torch/_tensor.py\u001b[0m in \u001b[0;36m__contains__\u001b[0;34m(self, element)\u001b[0m\n\u001b[1;32m    997\u001b[0m             \u001b[0;32mreturn\u001b[0m \u001b[0;34m(\u001b[0m\u001b[0melement\u001b[0m \u001b[0;34m==\u001b[0m \u001b[0mself\u001b[0m\u001b[0;34m)\u001b[0m\u001b[0;34m.\u001b[0m\u001b[0many\u001b[0m\u001b[0;34m(\u001b[0m\u001b[0;34m)\u001b[0m\u001b[0;34m.\u001b[0m\u001b[0mitem\u001b[0m\u001b[0;34m(\u001b[0m\u001b[0;34m)\u001b[0m  \u001b[0;31m# type: ignore[union-attr]\u001b[0m\u001b[0;34m\u001b[0m\u001b[0;34m\u001b[0m\u001b[0m\n\u001b[1;32m    998\u001b[0m \u001b[0;34m\u001b[0m\u001b[0m\n\u001b[0;32m--> 999\u001b[0;31m         raise RuntimeError(\n\u001b[0m\u001b[1;32m   1000\u001b[0m             \u001b[0;34m\"Tensor.__contains__ only supports Tensor or scalar, but you passed in a %s.\"\u001b[0m\u001b[0;34m\u001b[0m\u001b[0;34m\u001b[0m\u001b[0m\n\u001b[1;32m   1001\u001b[0m             \u001b[0;34m%\u001b[0m \u001b[0mtype\u001b[0m\u001b[0;34m(\u001b[0m\u001b[0melement\u001b[0m\u001b[0;34m)\u001b[0m\u001b[0;34m\u001b[0m\u001b[0;34m\u001b[0m\u001b[0m\n",
            "\u001b[0;31mRuntimeError\u001b[0m: Tensor.__contains__ only supports Tensor or scalar, but you passed in a <class 'bytes'>."
          ]
        }
      ]
    },
    {
      "cell_type": "markdown",
      "source": [
        "### Compare PyTorch/TVM Results"
      ],
      "metadata": {
        "id": "RQuZ5kv7-Oll"
      }
    },
    {
      "cell_type": "code",
      "source": [
        "prediction[\"boxes\"] - torch.from_numpy(tvm_res[0].asnumpy())"
      ],
      "metadata": {
        "colab": {
          "base_uri": "https://localhost:8080/"
        },
        "id": "SvbaSq3e5vTL",
        "outputId": "263ce68b-6318-4754-cf49-bfeccfa0e756"
      },
      "execution_count": 83,
      "outputs": [
        {
          "output_type": "execute_result",
          "data": {
            "text/plain": [
              "tensor([[-6.6757e-06,  0.0000e+00,  7.6294e-06,  0.0000e+00],\n",
              "        [ 0.0000e+00,  1.5259e-05,  0.0000e+00,  3.0518e-05],\n",
              "        [ 0.0000e+00,  1.5259e-05,  0.0000e+00,  1.5259e-05],\n",
              "        [ 0.0000e+00,  0.0000e+00,  1.5259e-05,  0.0000e+00],\n",
              "        [ 0.0000e+00, -1.5259e-05,  2.2888e-05,  0.0000e+00],\n",
              "        [ 0.0000e+00,  0.0000e+00,  0.0000e+00,  0.0000e+00],\n",
              "        [-1.0682e-06, -1.5259e-05, -9.5367e-07,  1.5259e-05],\n",
              "        [ 7.6294e-06,  0.0000e+00,  7.6294e-06,  0.0000e+00]],\n",
              "       grad_fn=<SubBackward0>)"
            ]
          },
          "metadata": {},
          "execution_count": 83
        }
      ]
    },
    {
      "cell_type": "code",
      "source": [
        "# compare relative accuracy\n",
        "np.mean(((prediction[\"boxes\"] - torch.from_numpy(tvm_res[0].asnumpy())) / prediction[\"boxes\"]).detach().numpy())"
      ],
      "metadata": {
        "colab": {
          "base_uri": "https://localhost:8080/"
        },
        "id": "skBSwj0C51_A",
        "outputId": "6e80d0bb-b736-474b-8a02-81dcaa788866"
      },
      "execution_count": 88,
      "outputs": [
        {
          "output_type": "execute_result",
          "data": {
            "text/plain": [
              "-3.2732128e-06"
            ]
          },
          "metadata": {},
          "execution_count": 88
        }
      ]
    },
    {
      "cell_type": "code",
      "source": [
        "prediction[\"labels\"]"
      ],
      "metadata": {
        "colab": {
          "base_uri": "https://localhost:8080/"
        },
        "id": "v27bV_4U5tp4",
        "outputId": "4faae2e7-c9eb-486d-edaa-d42885450d67"
      },
      "execution_count": 82,
      "outputs": [
        {
          "output_type": "execute_result",
          "data": {
            "text/plain": [
              "tensor([1, 2, 1, 3, 1, 1, 3, 3])"
            ]
          },
          "metadata": {},
          "execution_count": 82
        }
      ]
    },
    {
      "cell_type": "code",
      "source": [
        "torch.from_numpy(tvm_res[2].asnumpy())"
      ],
      "metadata": {
        "colab": {
          "base_uri": "https://localhost:8080/"
        },
        "id": "qDG-zp0N5sWi",
        "outputId": "2f290315-ea61-4ef1-8482-3618bc4bdd44"
      },
      "execution_count": 81,
      "outputs": [
        {
          "output_type": "execute_result",
          "data": {
            "text/plain": [
              "tensor([1, 2, 1, 3, 1, 1, 3, 3])"
            ]
          },
          "metadata": {},
          "execution_count": 81
        }
      ]
    },
    {
      "cell_type": "code",
      "source": [
        "torch.from_numpy((img*256).astype(np.uint8))[0]"
      ],
      "metadata": {
        "id": "_Nn0N-ij4Xjz"
      },
      "execution_count": null,
      "outputs": []
    }
  ],
  "metadata": {
    "kernelspec": {
      "display_name": "Python 3",
      "language": "python",
      "name": "python3"
    },
    "language_info": {
      "codemirror_mode": {
        "name": "ipython",
        "version": 3
      },
      "file_extension": ".py",
      "mimetype": "text/x-python",
      "name": "python",
      "nbconvert_exporter": "python",
      "pygments_lexer": "ipython3",
      "version": "3.8.16"
    },
    "colab": {
      "provenance": [],
      "include_colab_link": true
    }
  },
  "nbformat": 4,
  "nbformat_minor": 0
}